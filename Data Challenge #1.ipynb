{
 "cells": [
  {
   "cell_type": "markdown",
   "metadata": {},
   "source": [
    "## Data Challenge 1"
   ]
  },
  {
   "cell_type": "markdown",
   "metadata": {},
   "source": [
    "### Mei Tessum"
   ]
  },
  {
   "cell_type": "markdown",
   "metadata": {},
   "source": [
    "In this data challenge, the dependent variable is a binary variable that contains data coded as 2 (benign) and 4 (malignant), therefore, I am going to build a predictive model using logistic regression. This logistic regression model will predict P(Y=4) (or the probability of having the biopsied breast cell as malignant) as a function of Xs."
   ]
  },
  {
   "cell_type": "markdown",
   "metadata": {},
   "source": [
    "First,I will make some assuptions:\n",
    "The independent variables should be independent of each other.\n",
    "The sample size is big enough."
   ]
  },
  {
   "cell_type": "code",
   "execution_count": 28,
   "metadata": {},
   "outputs": [],
   "source": [
    "import pandas as pd\n",
    "import numpy as np\n",
    "from sklearn import preprocessing\n",
    "from matplotlib import pyplot as plt \n",
    "plt.rc(\"font\", size=14)\n",
    "from sklearn.linear_model import LogisticRegression\n",
    "from sklearn.model_selection import train_test_split\n",
    "import seaborn as sns\n",
    "sns.set(style=\"white\")\n",
    "sns.set(style=\"whitegrid\", color_codes=True)"
   ]
  },
  {
   "cell_type": "code",
   "execution_count": 29,
   "metadata": {},
   "outputs": [],
   "source": [
    "df=pd.read_csv(\"https://archive.ics.uci.edu/ml/machine-learning-databases/breast-cancer-wisconsin/breast-cancer-wisconsin.data\",\n",
    "              names=[\"id_number\",\"clump_thickness\",\"cell_size_uniformity\",\"cell_shape_uniformity\",\n",
    "                    \"marginal_adhesion\",\"single_epithelial_cell_size\",\"bare_nuclei\",\"bland_chromatin\"\n",
    "                    \"normal_nucleoli\",\"mitoses\",\"class\"])"
   ]
  },
  {
   "cell_type": "code",
   "execution_count": 30,
   "metadata": {},
   "outputs": [
    {
     "data": {
      "text/plain": [
       "id_number                         int64\n",
       "clump_thickness                   int64\n",
       "cell_size_uniformity              int64\n",
       "cell_shape_uniformity             int64\n",
       "marginal_adhesion                 int64\n",
       "single_epithelial_cell_size       int64\n",
       "bare_nuclei                       int64\n",
       "bland_chromatinnormal_nucleoli    int64\n",
       "mitoses                           int64\n",
       "class                             int64\n",
       "dtype: object"
      ]
     },
     "execution_count": 30,
     "metadata": {},
     "output_type": "execute_result"
    }
   ],
   "source": [
    "df= df[df.single_epithelial_cell_size != \"?\"]\n",
    "df=df.astype('int64')\n",
    "df.dtypes"
   ]
  },
  {
   "cell_type": "code",
   "execution_count": 31,
   "metadata": {},
   "outputs": [],
   "source": [
    "df[\"class\"][df['class']==2] = 0\n",
    "df[\"class\"][df['class']==4] = 1"
   ]
  },
  {
   "cell_type": "code",
   "execution_count": 32,
   "metadata": {},
   "outputs": [
    {
     "data": {
      "text/plain": [
       "0    444\n",
       "1    239\n",
       "Name: class, dtype: int64"
      ]
     },
     "execution_count": 32,
     "metadata": {},
     "output_type": "execute_result"
    }
   ],
   "source": [
    "df[\"class\"].value_counts()"
   ]
  },
  {
   "cell_type": "code",
   "execution_count": 33,
   "metadata": {},
   "outputs": [
    {
     "data": {
      "image/png": "[encoded data removed]",
      "text/plain": [
       "<matplotlib.figure.Figure at 0x13fe62ad080>"
      ]
     },
     "metadata": {},
     "output_type": "display_data"
    },
    {
     "data": {
      "text/plain": [
       "<matplotlib.figure.Figure at 0x13fe56071d0>"
      ]
     },
     "metadata": {},
     "output_type": "display_data"
    }
   ],
   "source": [
    "sns.countplot(x=\"class\", data=df,palette=\"hls\")\n",
    "plt.show()\n",
    "plt.savefig(\"count_plot\")"
   ]
  },
  {
   "cell_type": "code",
   "execution_count": 34,
   "metadata": {},
   "outputs": [
    {
     "name": "stdout",
     "output_type": "stream",
     "text": [
      "The percentage of malignant breat call is 34.99267935578331\n",
      "The percentage of benign breat call is 65.00732064421669\n"
     ]
    }
   ],
   "source": [
    "count_benign = len(df[df['class']==0])\n",
    "count_malignant = len(df[df['class']==1])\n",
    "pct_of_malignant = count_malignant/(count_malignant+count_benign)\n",
    "print(\"The percentage of malignant breat call is\", pct_of_malignant*100)\n",
    "pct_of_benign = count_benign/(count_malignant+count_benign)\n",
    "print(\"The percentage of benign breat call is\", pct_of_benign*100)"
   ]
  },
  {
   "cell_type": "markdown",
   "metadata": {},
   "source": [
    "Balanced dependent variable is improtant for logistic regression, and the ratio of malignant to benign breat call is 35:65, which indicates me to balance the class after doing data exploration."
   ]
  },
  {
   "cell_type": "code",
   "execution_count": 36,
   "metadata": {},
   "outputs": [
    {
     "data": {
      "text/html": [
       "<div>\n",
       "<style scoped>\n",
       "    .dataframe tbody tr th:only-of-type {\n",
       "        vertical-align: middle;\n",
       "    }\n",
       "\n",
       "    .dataframe tbody tr th {\n",
       "        vertical-align: top;\n",
       "    }\n",
       "\n",
       "    .dataframe thead th {\n",
       "        text-align: right;\n",
       "    }\n",
       "</style>\n",
       "<table border=\"1\" class=\"dataframe\">\n",
       "  <thead>\n",
       "    <tr style=\"text-align: right;\">\n",
       "      <th></th>\n",
       "      <th>id_number</th>\n",
       "      <th>clump_thickness</th>\n",
       "      <th>cell_size_uniformity</th>\n",
       "      <th>cell_shape_uniformity</th>\n",
       "      <th>marginal_adhesion</th>\n",
       "      <th>single_epithelial_cell_size</th>\n",
       "      <th>bare_nuclei</th>\n",
       "      <th>bland_chromatinnormal_nucleoli</th>\n",
       "      <th>mitoses</th>\n",
       "    </tr>\n",
       "    <tr>\n",
       "      <th>class</th>\n",
       "      <th></th>\n",
       "      <th></th>\n",
       "      <th></th>\n",
       "      <th></th>\n",
       "      <th></th>\n",
       "      <th></th>\n",
       "      <th></th>\n",
       "      <th></th>\n",
       "      <th></th>\n",
       "    </tr>\n",
       "  </thead>\n",
       "  <tbody>\n",
       "    <tr>\n",
       "      <th>0</th>\n",
       "      <td>2.963964</td>\n",
       "      <td>1.306306</td>\n",
       "      <td>1.414414</td>\n",
       "      <td>1.346847</td>\n",
       "      <td>2.108108</td>\n",
       "      <td>1.346847</td>\n",
       "      <td>2.083333</td>\n",
       "      <td>1.261261</td>\n",
       "      <td>1.065315</td>\n",
       "    </tr>\n",
       "    <tr>\n",
       "      <th>1</th>\n",
       "      <td>7.188285</td>\n",
       "      <td>6.577406</td>\n",
       "      <td>6.560669</td>\n",
       "      <td>5.585774</td>\n",
       "      <td>5.326360</td>\n",
       "      <td>7.627615</td>\n",
       "      <td>5.974895</td>\n",
       "      <td>5.857741</td>\n",
       "      <td>2.602510</td>\n",
       "    </tr>\n",
       "  </tbody>\n",
       "</table>\n",
       "</div>"
      ],
      "text/plain": [
       "       id_number  clump_thickness  cell_size_uniformity  \\\n",
       "class                                                     \n",
       "0       2.963964         1.306306              1.414414   \n",
       "1       7.188285         6.577406              6.560669   \n",
       "\n",
       "       cell_shape_uniformity  marginal_adhesion  single_epithelial_cell_size  \\\n",
       "class                                                                          \n",
       "0                   1.346847           2.108108                     1.346847   \n",
       "1                   5.585774           5.326360                     7.627615   \n",
       "\n",
       "       bare_nuclei  bland_chromatinnormal_nucleoli   mitoses  \n",
       "class                                                         \n",
       "0         2.083333                        1.261261  1.065315  \n",
       "1         5.974895                        5.857741  2.602510  "
      ]
     },
     "execution_count": 36,
     "metadata": {},
     "output_type": "execute_result"
    }
   ],
   "source": [
    "df.groupby(\"class\").mean()"
   ]
  },
  {
   "cell_type": "markdown",
   "metadata": {},
   "source": [
    "Although have no idea what those independant variables mean, it seems high levels of independant variables tend to associate with malignant breast cell and low levels of independant variables tend to associate with benign breast cell. I notice here, the level of mitoses doesn't shown as large as of a difference in malignant and benign breast cell, but sitll follows the same pattern, and I will evaluate each feature's performance later. "
   ]
  },
  {
   "cell_type": "code",
   "execution_count": 37,
   "metadata": {},
   "outputs": [
    {
     "data": {
      "image/png": "[encoded data removed]",
      "text/plain": [
       "<matplotlib.figure.Figure at 0x13fe5600048>"
      ]
     },
     "metadata": {
      "needs_background": "light"
     },
     "output_type": "display_data"
    }
   ],
   "source": [
    "%matplotlib inline\n",
    "pd.crosstab(df.mitoses,df[\"class\"]).plot(kind='bar')\n",
    "plt.title('Breast Cell Class for Mitoses')\n",
    "plt.xlabel('Mitoses')\n",
    "plt.ylabel('Breast Cell Class')\n",
    "plt.savefig('Cell_Class_for_Mitoses')"
   ]
  },
  {
   "cell_type": "code",
   "execution_count": 38,
   "metadata": {},
   "outputs": [
    {
     "data": {
      "image/png": "[encoded data removed]",
      "text/plain": [
       "<matplotlib.figure.Figure at 0x13fe6334710>"
      ]
     },
     "metadata": {
      "needs_background": "light"
     },
     "output_type": "display_data"
    }
   ],
   "source": [
    "%matplotlib inline\n",
    "pd.crosstab(df.single_epithelial_cell_size,df[\"class\"]).plot(kind='bar')\n",
    "plt.title('Breast Cell Class for Single Epithelial Cell Size')\n",
    "plt.xlabel('Single Epithelial Cell Size')\n",
    "plt.ylabel('Breast Cell Class')\n",
    "plt.savefig('Cell_Class_for_single_epithelial_cell_size')"
   ]
  },
  {
   "cell_type": "code",
   "execution_count": 39,
   "metadata": {},
   "outputs": [
    {
     "data": {
      "image/png": "[encoded data removed]",
      "text/plain": [
       "<matplotlib.figure.Figure at 0x13fe6447080>"
      ]
     },
     "metadata": {
      "needs_background": "light"
     },
     "output_type": "display_data"
    }
   ],
   "source": [
    "%matplotlib inline\n",
    "pd.crosstab(df.clump_thickness,df[\"class\"]).plot(kind='bar')\n",
    "plt.title('Breast Cell Class for Clump Thickness')\n",
    "plt.xlabel('Clump Thickness')\n",
    "plt.ylabel('Breast Cell Class')\n",
    "plt.savefig('Cell_Class_for_Clump_Thickness')"
   ]
  },
  {
   "cell_type": "markdown",
   "metadata": {},
   "source": [
    "Now I will up-sample the malignant breast cancer cases using the SMOTE (Synthetic Minority Oversampling Technique) algorithm. This algorithm generates synthetic samples by randomly choosing one of the k-nearest-neighbors and using it to create a similar, but randomly tweaked, new observations."
   ]
  },
  {
   "cell_type": "markdown",
   "metadata": {},
   "source": [
    "I will over-sampled only on the training data, because by oversampling only on the training data, none of the information in the test data is being used to create synthetic observations, therefore, no information will bleed from test data into the model training."
   ]
  },
  {
   "cell_type": "code",
   "execution_count": 40,
   "metadata": {},
   "outputs": [
    {
     "name": "stdout",
     "output_type": "stream",
     "text": [
      "length of oversampled data is  714\n",
      "Number of benign breast cancer in oversampled data 357\n",
      "Number of malignant breast cancer 357\n",
      "Proportion of benign breast cancer data in oversampled data is  0.5\n",
      "Proportion of malignant breast cancer data in oversampled data is  0.5\n"
     ]
    }
   ],
   "source": [
    "X = df.loc[:, df.columns != 'class']\n",
    "y = df.loc[:, df.columns == 'class']\n",
    "from imblearn.over_sampling import SMOTE\n",
    "os = SMOTE(random_state=0)\n",
    "X_train, X_test, y_train, y_test = train_test_split(X, y, test_size=0.2, random_state=0)\n",
    "columns = X_train.columns\n",
    "os_data_X,os_data_y=os.fit_sample(X_train, y_train.values.ravel())\n",
    "os_data_X = pd.DataFrame(data=os_data_X,columns=columns )\n",
    "os_data_y= pd.DataFrame(data=os_data_y,columns=['class'])\n",
    "# we can Check the numbers of our data\n",
    "print(\"length of oversampled data is \",len(os_data_X))\n",
    "print(\"Number of benign breast cancer in oversampled data\",len(os_data_y[os_data_y['class']==0]))\n",
    "print(\"Number of malignant breast cancer\",len(os_data_y[os_data_y['class']==1]))\n",
    "print(\"Proportion of benign breast cancer data in oversampled data is \",len(os_data_y[os_data_y['class']==0])/len(os_data_X))\n",
    "print(\"Proportion of malignant breast cancer data in oversampled data is \",len(os_data_y[os_data_y['class']==1])/len(os_data_X))"
   ]
  },
  {
   "cell_type": "markdown",
   "metadata": {},
   "source": [
    "Recursive Feature Elimination"
   ]
  },
  {
   "cell_type": "code",
   "execution_count": 41,
   "metadata": {},
   "outputs": [
    {
     "name": "stdout",
     "output_type": "stream",
     "text": [
      "[ True  True  True  True  True  True  True  True  True]\n",
      "[1 1 1 1 1 1 1 1 1]\n"
     ]
    }
   ],
   "source": [
    "df_vars=df.columns.values.tolist()\n",
    "y=['class']\n",
    "X=[i for i in df_vars if i not in y]\n",
    "from sklearn.feature_selection import RFE\n",
    "from sklearn.linear_model import LogisticRegression\n",
    "logreg = LogisticRegression()\n",
    "rfe = RFE(logreg, 20)\n",
    "rfe = rfe.fit(os_data_X, os_data_y.values.ravel())\n",
    "print(rfe.support_)\n",
    "print(rfe.ranking_)"
   ]
  },
  {
   "cell_type": "markdown",
   "metadata": {},
   "source": [
    "All the features seem play important roles, and therefore I will select them all."
   ]
  },
  {
   "cell_type": "markdown",
   "metadata": {},
   "source": [
    "Implementing the model"
   ]
  },
  {
   "cell_type": "code",
   "execution_count": 42,
   "metadata": {},
   "outputs": [
    {
     "name": "stdout",
     "output_type": "stream",
     "text": [
      "Optimization terminated successfully.\n",
      "         Current function value: 0.354590\n",
      "         Iterations 8\n",
      "                                Results: Logit\n",
      "==============================================================================\n",
      "Model:                  Logit                Pseudo R-squared:     0.488      \n",
      "Dependent Variable:     class                AIC:                  522.3552   \n",
      "Date:                   2019-02-13 22:03     BIC:                  558.9222   \n",
      "No. Observations:       714                  Log-Likelihood:       -253.18    \n",
      "Df Model:               7                    LL-Null:              -494.91    \n",
      "Df Residuals:           706                  LLR p-value:          2.8804e-100\n",
      "Converged:              1.0000               Scale:                1.0000     \n",
      "No. Iterations:         8.0000                                                \n",
      "------------------------------------------------------------------------------\n",
      "                                Coef.  Std.Err.    z    P>|z|   [0.025  0.975]\n",
      "------------------------------------------------------------------------------\n",
      "clump_thickness                 0.9819   0.1323  7.4197 0.0000  0.7225  1.2413\n",
      "cell_size_uniformity           -0.0123   0.1087 -0.1133 0.9098 -0.2254  0.2008\n",
      "cell_shape_uniformity           0.1309   0.0758  1.7271 0.0841 -0.0176  0.2794\n",
      "marginal_adhesion              -0.8118   0.0978 -8.2974 0.0000 -1.0036 -0.6201\n",
      "single_epithelial_cell_size     0.5074   0.0625  8.1237 0.0000  0.3850  0.6298\n",
      "bare_nuclei                    -0.6860   0.0919 -7.4635 0.0000 -0.8662 -0.5059\n",
      "bland_chromatinnormal_nucleoli  0.4446   0.0725  6.1321 0.0000  0.3025  0.5866\n",
      "mitoses                        -0.3046   0.0859 -3.5446 0.0004 -0.4731 -0.1362\n",
      "==============================================================================\n",
      "\n"
     ]
    }
   ],
   "source": [
    "cols=[\"clump_thickness\",\"cell_size_uniformity\",\"cell_shape_uniformity\",\n",
    "                    \"marginal_adhesion\",\"single_epithelial_cell_size\",\"bare_nuclei\",\"bland_chromatin\"\n",
    "                    \"normal_nucleoli\",\"mitoses\"]\n",
    "X=os_data_X[cols]\n",
    "y=os_data_y['class']\n",
    "import statsmodels.api as sm\n",
    "logit_model=sm.Logit(y,X)\n",
    "result=logit_model.fit()\n",
    "print(result.summary2())"
   ]
  },
  {
   "cell_type": "markdown",
   "metadata": {},
   "source": [
    "The p-values for most of the variables are smaller than 0.05, except two variables (cell_size_uniformity and cell_shape_uniformity), therefore, I will remove them."
   ]
  },
  {
   "cell_type": "code",
   "execution_count": 45,
   "metadata": {},
   "outputs": [
    {
     "name": "stdout",
     "output_type": "stream",
     "text": [
      "Optimization terminated successfully.\n",
      "         Current function value: 0.356727\n",
      "         Iterations 8\n",
      "                                Results: Logit\n",
      "==============================================================================\n",
      "Model:                  Logit                Pseudo R-squared:     0.485      \n",
      "Dependent Variable:     class                AIC:                  521.4060   \n",
      "Date:                   2019-02-13 22:06     BIC:                  548.8313   \n",
      "No. Observations:       714                  Log-Likelihood:       -254.70    \n",
      "Df Model:               5                    LL-Null:              -494.91    \n",
      "Df Residuals:           708                  LLR p-value:          1.3509e-101\n",
      "Converged:              1.0000               Scale:                1.0000     \n",
      "No. Iterations:         8.0000                                                \n",
      "------------------------------------------------------------------------------\n",
      "                                Coef.  Std.Err.    z    P>|z|   [0.025  0.975]\n",
      "------------------------------------------------------------------------------\n",
      "clump_thickness                 1.0139   0.1110  9.1382 0.0000  0.7965  1.2314\n",
      "marginal_adhesion              -0.8007   0.0980 -8.1682 0.0000 -0.9929 -0.6086\n",
      "single_epithelial_cell_size     0.5113   0.0606  8.4427 0.0000  0.3926  0.6300\n",
      "bare_nuclei                    -0.6400   0.0869 -7.3678 0.0000 -0.8102 -0.4697\n",
      "bland_chromatinnormal_nucleoli  0.4332   0.0711  6.0904 0.0000  0.2938  0.5726\n",
      "mitoses                        -0.2829   0.0857 -3.3000 0.0010 -0.4509 -0.1149\n",
      "==============================================================================\n",
      "\n"
     ]
    }
   ],
   "source": [
    "cols=[\"clump_thickness\",\"marginal_adhesion\",\"single_epithelial_cell_size\",\"bare_nuclei\",\"bland_chromatin\"\n",
    "                    \"normal_nucleoli\",\"mitoses\"]\n",
    "X=os_data_X[cols]\n",
    "y=os_data_y['class']\n",
    "import statsmodels.api as sm\n",
    "logit_model=sm.Logit(y,X)\n",
    "result=logit_model.fit()\n",
    "print(result.summary2())"
   ]
  },
  {
   "cell_type": "markdown",
   "metadata": {},
   "source": [
    "After I rerun the model the p-values for most of the variables are smaller than 0.05, and therefore this is our final model using to predict the class of breast cell.  "
   ]
  },
  {
   "cell_type": "markdown",
   "metadata": {},
   "source": [
    "Logistic Regression Model Fitting"
   ]
  },
  {
   "cell_type": "code",
   "execution_count": 46,
   "metadata": {},
   "outputs": [
    {
     "data": {
      "text/plain": [
       "LogisticRegression(C=1.0, class_weight=None, dual=False, fit_intercept=True,\n",
       "          intercept_scaling=1, max_iter=100, multi_class='ovr', n_jobs=1,\n",
       "          penalty='l2', random_state=None, solver='liblinear', tol=0.0001,\n",
       "          verbose=0, warm_start=False)"
      ]
     },
     "execution_count": 46,
     "metadata": {},
     "output_type": "execute_result"
    }
   ],
   "source": [
    "from sklearn.linear_model import LogisticRegression\n",
    "from sklearn import metrics\n",
    "X_train, X_test, y_train, y_test = train_test_split(X, y, test_size=0.2, random_state=0)\n",
    "logreg = LogisticRegression()\n",
    "logreg.fit(X_train, y_train)"
   ]
  },
  {
   "cell_type": "markdown",
   "metadata": {},
   "source": [
    "Predicting the test set results and calculating the accuracy"
   ]
  },
  {
   "cell_type": "code",
   "execution_count": 47,
   "metadata": {},
   "outputs": [
    {
     "name": "stdout",
     "output_type": "stream",
     "text": [
      "Accuracy of logistic regression classifier on test set: 0.96\n"
     ]
    }
   ],
   "source": [
    "y_pred = logreg.predict(X_test)\n",
    "print('Accuracy of logistic regression classifier on test set: {:.2f}'.format(logreg.score(X_test, y_test)))"
   ]
  },
  {
   "cell_type": "markdown",
   "metadata": {},
   "source": [
    "### Confusion Matrix"
   ]
  },
  {
   "cell_type": "code",
   "execution_count": 48,
   "metadata": {},
   "outputs": [
    {
     "name": "stdout",
     "output_type": "stream",
     "text": [
      "[[67  1]\n",
      " [ 5 70]]\n"
     ]
    }
   ],
   "source": [
    "from sklearn.metrics import confusion_matrix\n",
    "confusion_matrix = confusion_matrix(y_test, y_pred)\n",
    "print(confusion_matrix)"
   ]
  },
  {
   "cell_type": "markdown",
   "metadata": {},
   "source": [
    "The result is telling us that we have 67+70 correct predictions and 5+1 incorrect predictions."
   ]
  },
  {
   "cell_type": "markdown",
   "metadata": {},
   "source": [
    "Compute precision, recall, F-measure and support"
   ]
  },
  {
   "cell_type": "code",
   "execution_count": 49,
   "metadata": {},
   "outputs": [
    {
     "name": "stdout",
     "output_type": "stream",
     "text": [
      "             precision    recall  f1-score   support\n",
      "\n",
      "          0       0.93      0.99      0.96        68\n",
      "          1       0.99      0.93      0.96        75\n",
      "\n",
      "avg / total       0.96      0.96      0.96       143\n",
      "\n"
     ]
    }
   ],
   "source": [
    "from sklearn.metrics import classification_report\n",
    "print(classification_report(y_test, y_pred))"
   ]
  },
  {
   "cell_type": "markdown",
   "metadata": {},
   "source": [
    "Interpretation: "
   ]
  },
  {
   "cell_type": "markdown",
   "metadata": {},
   "source": [
    "### ROC Curve"
   ]
  },
  {
   "cell_type": "code",
   "execution_count": 50,
   "metadata": {},
   "outputs": [
    {
     "data": {
      "image/png": "[encoded data removed]",
      "text/plain": [
       "<matplotlib.figure.Figure at 0x13fe64066a0>"
      ]
     },
     "metadata": {
      "needs_background": "light"
     },
     "output_type": "display_data"
    }
   ],
   "source": [
    "from sklearn.metrics import roc_auc_score\n",
    "from sklearn.metrics import roc_curve\n",
    "logit_roc_auc = roc_auc_score(y_test, logreg.predict(X_test))\n",
    "fpr, tpr, thresholds = roc_curve(y_test, logreg.predict_proba(X_test)[:,1])\n",
    "plt.figure()\n",
    "plt.plot(fpr, tpr, label='Logistic Regression (area = %0.2f)' % logit_roc_auc)\n",
    "plt.plot([0, 1], [0, 1],'r--')\n",
    "plt.xlim([0.0, 1.0])\n",
    "plt.ylim([0.0, 1.05])\n",
    "plt.xlabel('False Positive Rate')\n",
    "plt.ylabel('True Positive Rate')\n",
    "plt.title('Receiver operating characteristic')\n",
    "plt.legend(loc=\"lower right\")\n",
    "plt.savefig('Log_ROC')\n",
    "plt.show()"
   ]
  },
  {
   "cell_type": "code",
   "execution_count": null,
   "metadata": {},
   "outputs": [],
   "source": []
  }
 ],
 "metadata": {
  "kernelspec": {
   "display_name": "Python 3",
   "language": "python",
   "name": "python3"
  },
  "language_info": {
   "codemirror_mode": {
    "name": "ipython",
    "version": 3
   },
   "file_extension": ".py",
   "mimetype": "text/x-python",
   "name": "python",
   "nbconvert_exporter": "python",
   "pygments_lexer": "ipython3",
   "version": "3.6.6"
  }
 },
 "nbformat": 4,
 "nbformat_minor": 2
}
